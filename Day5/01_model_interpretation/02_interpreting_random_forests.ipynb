{
 "cells": [
  {
   "cell_type": "code",
   "execution_count": null,
   "metadata": {},
   "outputs": [],
   "source": [
    "%matplotlib inline"
   ]
  },
  {
   "cell_type": "markdown",
   "metadata": {},
   "source": [
    "\n",
    "Interpreting random forests\n",
    "============================\n",
    "\n",
    "Interpreting random forests\n",
    "\n"
   ]
  },
  {
   "cell_type": "markdown",
   "metadata": {},
   "source": [
    "Data on wages\n",
    "--------------\n",
    "\n",
    "We use the same data as in the linear-model notebook\n",
    "\n"
   ]
  },
  {
   "cell_type": "code",
   "execution_count": null,
   "metadata": {},
   "outputs": [],
   "source": [
    "import os\n",
    "import pandas\n",
    "\n",
    "# Python 2 vs Python 3:\n",
    "try:\n",
    "    from urllib.request import urlretrieve\n",
    "except ImportError:\n",
    "    from urllib import urlretrieve\n",
    "\n",
    "if not os.path.exists('wages.txt'):\n",
    "    # Download the file if it is not present\n",
    "    urlretrieve('http://lib.stat.cmu.edu/datasets/CPS_85_Wages',\n",
    "                'wages.txt')\n",
    "\n",
    "# Give names to the columns\n",
    "names = [\n",
    "    'EDUCATION: Number of years of education',\n",
    "    'SOUTH: 1=Person lives in South, 0=Person lives elsewhere',\n",
    "    'SEX: 1=Female, 0=Male',\n",
    "    'EXPERIENCE: Number of years of work experience',\n",
    "    'UNION: 1=Union member, 0=Not union member',\n",
    "    'WAGE: Wage (dollars per hour)',\n",
    "    'AGE: years',\n",
    "    'RACE: 1=Other, 2=Hispanic, 3=White',\n",
    "    'OCCUPATION: 1=Management, 2=Sales, 3=Clerical, 4=Service, 5=Professional, 6=Other',\n",
    "    'SECTOR: 0=Other, 1=Manufacturing, 2=Construction',\n",
    "    'MARR: 0=Unmarried,  1=Married',\n",
    "]\n",
    "\n",
    "data = pandas.read_csv('wages.txt', skiprows=27, skipfooter=6, sep=None,\n",
    "                       header=None, engine='python')\n",
    "short_names = [n.split(':')[0] for n in names]\n",
    "data.columns = short_names\n",
    "\n",
    "# Log-transform the wages, as they typically increase with\n",
    "# multiplicative factors\n",
    "import numpy as np\n",
    "data['WAGE'] = np.log10(data['WAGE'])\n",
    "\n",
    "\n",
    "features = [c for c in data.columns if c != 'WAGE']\n",
    "X = data[features]\n",
    "y = data['WAGE']"
   ]
  },
  {
   "cell_type": "markdown",
   "metadata": {},
   "source": [
    "Feature importance\n",
    "----------------------\n",
    "\n"
   ]
  },
  {
   "cell_type": "markdown",
   "metadata": {},
   "source": [
    "\n",
    "Interpreting random forests can be done through feature importance. This index explain how much a feature is used to split a tree. This is also known as the Gini importance.\n"
   ]
  },
  {
   "cell_type": "code",
   "execution_count": null,
   "metadata": {},
   "outputs": [],
   "source": [
    "from sklearn import ensemble\n",
    "\n",
    "forest = ensemble.RandomForestRegressor(n_estimators=100)\n",
    "forest.fit(X, y)\n",
    "\n",
    "# Visualize the feature importance\n",
    "importance = forest.feature_importances_\n",
    "from matplotlib import pyplot as plt\n",
    "plt.barh(np.arange(importance.size), importance)\n",
    "plt.yticks(np.arange(importance.size), features)\n",
    "plt.tight_layout()"
   ]
  },
  {
   "cell_type": "markdown",
   "metadata": {},
   "source": [
    "Meaning and Caveats\n",
    "-----------------------\n",
    "\n",
    "Feature importances are a proxy for the mutual information between the\n",
    "feature and the target, conditionally on the other features. The\n",
    "conditioning is difficult and not well controlled.\n",
    "\n",
    "Higher-cardinality categorical variables will have larger\n",
    "feature importances, more on this in the [scikit-learn documentation (dev)](https://scikit-learn.org/dev/auto_examples/inspection/plot_permutation_importance.html)\n",
    "\n",
    "________________________________________________________\n",
    "\n"
   ]
  },
  {
   "cell_type": "code",
   "execution_count": null,
   "metadata": {},
   "outputs": [],
   "source": []
  }
 ],
 "metadata": {
  "kernelspec": {
   "display_name": "Python 3",
   "language": "python",
   "name": "python3"
  },
  "language_info": {
   "codemirror_mode": {
    "name": "ipython",
    "version": 3
   },
   "file_extension": ".py",
   "mimetype": "text/x-python",
   "name": "python",
   "nbconvert_exporter": "python",
   "pygments_lexer": "ipython3",
   "version": "3.7.0"
  }
 },
 "nbformat": 4,
 "nbformat_minor": 1
}
